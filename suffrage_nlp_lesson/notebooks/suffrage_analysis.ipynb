{
 "cells": [
  {
   "cell_type": "markdown",
   "id": "cfb4cf80",
   "metadata": {},
   "source": [
    "# Analyzing Women's Suffrage and Anti-Suffrage Rhetoric with Word Frequency Analysis"
   ]
  },
  {
   "cell_type": "markdown",
   "id": "fcee2dcf",
   "metadata": {},
   "source": [
    "This notebook demonstrates how to perform basic NLP analysis using tokenization and word frequency to compare pro-suffrage and anti-suffrage texts from the late 19th and early 20th centuries."
   ]
  },
  {
   "cell_type": "code",
   "execution_count": null,
   "id": "58e07e9f",
   "metadata": {},
   "outputs": [],
   "source": [
    "import pandas as pd\n",
    "import nltk\n",
    "from nltk.corpus import stopwords\n",
    "from nltk.tokenize import word_tokenize\n",
    "import string\n",
    "import matplotlib.pyplot as plt\n",
    "from collections import Counter\n",
    "\n",
    "nltk.download(\"punkt\")\n",
    "nltk.download(\"stopwords\")"
   ]
  },
  {
   "cell_type": "markdown",
   "id": "fd9ffe32",
   "metadata": {},
   "source": [
    "## Load the Data"
   ]
  },
  {
   "cell_type": "code",
   "execution_count": null,
   "id": "7ce753c4",
   "metadata": {},
   "outputs": [],
   "source": [
    "df = pd.read_csv(\"../data/suffrage_texts.csv\")\n",
    "df.head()"
   ]
  },
  {
   "cell_type": "markdown",
   "id": "16139ea5",
   "metadata": {},
   "source": [
    "## Preprocess the Text"
   ]
  },
  {
   "cell_type": "code",
   "execution_count": null,
   "id": "8e1d195f",
   "metadata": {},
   "outputs": [],
   "source": [
    "stop_words = set(stopwords.words(\"english\"))\n",
    "\n",
    "def preprocess(text):\n",
    "    tokens = word_tokenize(text.lower())\n",
    "    return [word for word in tokens if word.isalpha() and word not in stop_words]\n",
    "\n",
    "df[\"tokens\"] = df[\"text\"].apply(preprocess)\n",
    "df.head()"
   ]
  },
  {
   "cell_type": "markdown",
   "id": "1223fcc7",
   "metadata": {},
   "source": [
    "## Compare Word Frequencies"
   ]
  },
  {
   "cell_type": "code",
   "execution_count": null,
   "id": "6b6d3983",
   "metadata": {},
   "outputs": [],
   "source": [
    "pro_words = df[df[\"stance\"] == \"pro\"][\"tokens\"].sum()\n",
    "anti_words = df[df[\"stance\"] == \"anti\"][\"tokens\"].sum()\n",
    "\n",
    "pro_freq = Counter(pro_words).most_common(15)\n",
    "anti_freq = Counter(anti_words).most_common(15)\n",
    "\n",
    "pro_freq, anti_freq"
   ]
  },
  {
   "cell_type": "markdown",
   "id": "d02a9973",
   "metadata": {},
   "source": [
    "## Visualize the Results"
   ]
  },
  {
   "cell_type": "code",
   "execution_count": null,
   "id": "8f62b891",
   "metadata": {},
   "outputs": [],
   "source": [
    "def plot_freq(freq_data, title):\n",
    "    words, counts = zip(*freq_data)\n",
    "    plt.figure(figsize=(10, 5))\n",
    "    plt.bar(words, counts)\n",
    "    plt.xticks(rotation=45)\n",
    "    plt.title(title)\n",
    "    plt.ylabel(\"Frequency\")\n",
    "    plt.tight_layout()\n",
    "    plt.show()\n",
    "\n",
    "plot_freq(pro_freq, \"Top Words in Pro-Suffrage Texts\")\n",
    "plot_freq(anti_freq, \"Top Words in Anti-Suffrage Texts\")"
   ]
  }
 ],
 "metadata": {},
 "nbformat": 4,
 "nbformat_minor": 5
}
